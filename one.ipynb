{
 "cells": [
  {
   "cell_type": "code",
   "execution_count": 8,
   "id": "4718b006-d119-4478-81b0-a042b4993d7c",
   "metadata": {},
   "outputs": [
    {
     "data": {
      "text/plain": [
       "ChatGroq(client=<groq.resources.chat.completions.Completions object at 0x000002798540D5B0>, async_client=<groq.resources.chat.completions.AsyncCompletions object at 0x000002798540DBE0>, model_name='llama3-70b-8192', groq_api_key=SecretStr('**********'))"
      ]
     },
     "execution_count": 8,
     "metadata": {},
     "output_type": "execute_result"
    }
   ],
   "source": [
    "import os\n",
    "from dotenv import load_dotenv\n",
    "load_dotenv()\n",
    "from langchain_groq import ChatGroq\n",
    "from langchain_huggingface import HuggingFaceEmbeddings\n",
    "\n",
    "groq_api_key=os.getenv(\"GROQ_API_KEY\")\n",
    "\n",
    "llm=ChatGroq(groq_api_key=groq_api_key,model_name=\"llama3-70b-8192\")\n",
    "\n",
    "llm"
   ]
  },
  {
   "cell_type": "code",
   "execution_count": 10,
   "id": "d942cd5c-8851-47a4-9520-05c57c40ca76",
   "metadata": {},
   "outputs": [
    {
     "name": "stderr",
     "output_type": "stream",
     "text": [
      "C:\\Users\\yash\\AppData\\Roaming\\Python\\Python312\\site-packages\\sentence_transformers\\cross_encoder\\CrossEncoder.py:11: TqdmExperimentalWarning: Using `tqdm.autonotebook.tqdm` in notebook mode. Use `tqdm.tqdm` instead to force console mode (e.g. in jupyter console)\n",
      "  from tqdm.autonotebook import tqdm, trange\n",
      "C:\\Users\\yash\\AppData\\Roaming\\Python\\Python312\\site-packages\\transformers\\tokenization_utils_base.py:1601: FutureWarning: `clean_up_tokenization_spaces` was not set. It will be set to `True` by default. This behavior will be deprecated in transformers v4.45, and will be then set to `False` by default. For more details check this issue: https://github.com/huggingface/transformers/issues/31884\n",
      "  warnings.warn(\n"
     ]
    }
   ],
   "source": [
    "os.environ['HF_TOKEN']=os.getenv(\"HF_TOKEN\")\n",
    "groq_api_key=os.getenv(\"GROQ_API_KEY\")\n",
    "## Langsmith Tracking\n",
    "os.environ[\"LANGCHAIN_API_KEY\"]=os.getenv(\"LANGCHAIN_API_KEY\")\n",
    "os.environ[\"LANGCHAIN_TRACING_V2\"]=\"true\"\n",
    "os.environ[\"LANGCHAIN_PROJECT\"]=os.getenv(\"LANGCHAIN_PROJECT\")\n",
    "embeddings=HuggingFaceEmbeddings(model_name=\"all-MiniLM-L6-v2\")"
   ]
  },
  {
   "cell_type": "code",
   "execution_count": 11,
   "id": "7b94f8d7-b17f-435f-aea3-442814eeb3aa",
   "metadata": {},
   "outputs": [
    {
     "name": "stderr",
     "output_type": "stream",
     "text": [
      "USER_AGENT environment variable not set, consider setting it to identify your requests.\n"
     ]
    }
   ],
   "source": [
    "from langchain_community.document_loaders import WebBaseLoader\n",
    "from langchain_core.prompts import ChatPromptTemplate\n",
    "from langchain_text_splitters import RecursiveCharacterTextSplitter\n",
    "from langchain.chains import create_retrieval_chain\n",
    "from langchain.chains.combine_documents import create_stuff_documents_chain\n",
    "from langchain_community.vectorstores import FAISS"
   ]
  },
  {
   "cell_type": "code",
   "execution_count": 14,
   "id": "11b5256d-9547-4fd4-b090-798147b5e0c4",
   "metadata": {},
   "outputs": [
    {
     "data": {
      "text/plain": [
       "[Document(metadata={'source': 'https://www.flipkart.com/search?q=mobiles&sid=tyy%2C4io&as=on&as-show=on&otracker=AS_QueryStore_OrganicAutoSuggest_2_7_na_na_na&otracker1=AS_QueryStore_OrganicAutoSuggest_2_7_na_na_na&as-pos=2&as-type=RECENT&suggestionId=mobiles%7CMobiles&requestId=6b019d01-4d80-43a5-ba42-9f39c182b117&as-searchtext=mobiles'}, page_content='HomeMobiles & AccessoriesMobilesShowing 1 â€“ 24 of 10,063 results for \"mobiles\"Sort ByRelevancePopularityPrice -- Low to HighPrice -- High to LowNewest FirstAdd to Comparevivo V40 5G (Ganges Blue, 512 GB)4.599 RatingsÂ\\xa0&Â\\xa015 Reviews12 GB RAM | 512 GB ROM17.22 cm (6.78 inch) Full HD+ Display50MP + 50MP | 50MP Front Camera5500 mAh BatterySnapdragon 7 Gen 3 Processor1 Year Warranty on Handset and 6 Months Warranty on Accessoriesâ‚¹41,999â‚¹48,99914% offFree deliverySave extra with combo offersUpto â‚¹34,800 Off on ExchangeAdd to CompareApple iPhone 15 (Blue, 128 GB)4.648,096 RatingsÂ\\xa0&Â\\xa02,531 Reviews128 GB ROM15.49 cm (6.1 inch) Super Retina XDR Display48MP + 12MP | 12MP Front CameraA16 Bionic Chip, 6 Core Processor Processor1 Year Warranty for Phone and 6 Months Warranty for In-Box Accessoriesâ‚¹69,999â‚¹79,60012% offFree deliverySave extra with combo offersOnly 1 leftAdd to CompareApple iPhone 15 (Black, 128 GB)4.648,096 RatingsÂ\\xa0&Â\\xa02,531 Reviews128 GB ROM15.49 cm (6.1 inch) Super Retina XDR Display48MP + 12MP | 12MP Front CameraA16 Bionic Chip, 6 Core Processor Processor1 Year Warranty for Phone and 6 Months Warranty for In-Box Accessoriesâ‚¹69,999â‚¹79,60012% offFree deliverySave extra with combo offersUpto â‚¹47,600 Off on ExchangeAdd to Comparevivo T3 Lite 5G (Vibrant Green, 128 GB)4.413,906 RatingsÂ\\xa0&Â\\xa0454 Reviews6 GB RAM | 128 GB ROM | Expandable Upto 1 TB16.66 cm (6.56 inch) Display50MP + 2MP | 8MP Front Camera5000 mAh BatteryDimensity 6300 Processor1 Year Manufacturer Warranty for Device and 6 Months Manufacturer Warranty for Inbox Accessoriesâ‚¹11,499â‚¹15,49925% offFree deliverySave extra with combo offersUpto â‚¹7,800 Off on ExchangeAdd to Comparevivo T3 Lite 5G (Majestic Black, 128 GB)4.411,733 RatingsÂ\\xa0&Â\\xa0321 Reviews4 GB RAM | 128 GB ROM | Expandable Upto 1 TB16.66 cm (6.56 inch) Display50MP + 2MP | 8MP Front Camera5000 mAh BatteryDimensity 6300 Processor1 Year Manufacturer Warranty for Device and 6 Months Manufacturer Warranty for Inbox Accessoriesâ‚¹10,499â‚¹14,49927% offFree deliverySave extra with combo offersUpto â‚¹8,900 Off on ExchangeAdd to Comparevivo T3 Lite 5G (Vibrant Green, 128 GB)4.411,733 RatingsÂ\\xa0&Â\\xa0321 Reviews4 GB RAM | 128 GB ROM | Expandable Upto 1 TB16.66 cm (6.56 inch) Display50MP + 2MP | 8MP Front Camera5000 mAh BatteryDimensity 6300 Processor1 Year Manufacturer Warranty for Device and 6 Months Manufacturer Warranty for Inbox Accessoriesâ‚¹10,499â‚¹14,49927% offFree deliverySave extra with combo offersUpto â‚¹8,900 Off on ExchangeAdd to Comparevivo T3 Lite 5G (Majestic Black, 128 GB)4.413,906 RatingsÂ\\xa0&Â\\xa0454 Reviews6 GB RAM | 128 GB ROM | Expandable Upto 1 TB16.66 cm (6.56 inch) Display50MP + 2MP | 8MP Front Camera5000 mAh BatteryDimensity 6300 Processor1 Year Manufacturer Warranty for Device and 6 Months Manufacturer Warranty for Inbox Accessoriesâ‚¹11,499â‚¹15,49925% offFree deliverySave extra with combo offersUpto â‚¹7,800 Off on ExchangeAdd to Comparevivo T3x 5G (Crimson Bliss, 128 GB)4.546,730 RatingsÂ\\xa0&Â\\xa01,473 Reviews6 GB RAM | 128 GB ROM | Expandable Upto 1 TB17.07 cm (6.72 inch) Full HD+ Display50MP + 2MP | 8MP Front Camera6000 mAh Battery6 Gen 1 Processor1 Year Manufacturer Warranty for Device and 6 Months Manufacturer Warranty for Inbox Accessoriesâ‚¹14,999â‚¹18,99921% offFree deliverySave extra with combo offersUpto â‚¹12,950 Off on ExchangeAdd to Comparevivo T3x 5G (Celestial Green, 128 GB)4.546,730 RatingsÂ\\xa0&Â\\xa01,473 Reviews6 GB RAM | 128 GB ROM | Expandable Upto 1 TB17.07 cm (6.72 inch) Full HD+ Display50MP + 2MP | 8MP Front Camera6000 mAh Battery6 Gen 1 Processor1 Year Manufacturer Warranty for Device and 6 Months Manufacturer Warranty for Inbox Accessoriesâ‚¹14,999â‚¹18,99921% offFree deliverySave extra with combo offersUpto â‚¹12,950 Off on ExchangeAdd to Comparevivo T3x 5G (Crimson Bliss, 128 GB)4.515,623 RatingsÂ\\xa0&Â\\xa0487 Reviews4 GB RAM | 128 GB ROM | Expandable Upto 1 TB17.07 cm (6.72 inch) Full HD+ Display50MP + 2MP | 8MP Front Camera6000 mAh Battery6 Gen 1 Processor1 Year Manufacturer Warranty for Device and 6 Months Manufacturer Warranty for Inbox Accessoriesâ‚¹13,499â‚¹17,49922% offFree deliverySave extra with combo offersUpto â‚¹8,750 Off on ExchangeAdd to Comparevivo T3x 5G (Celestial Green, 128 GB)4.515,623 RatingsÂ\\xa0&Â\\xa0487 Reviews4 GB RAM | 128 GB ROM | Expandable Upto 1 TB17.07 cm (6.72 inch) Full HD+ Display50MP + 2MP | 8MP Front Camera6000 mAh Battery6 Gen 1 Processor1 Year Manufacturer Warranty for Device and 6 Months Manufacturer Warranty for Inbox Accessoriesâ‚¹13,499â‚¹17,49922% offFree deliverySave extra with combo offersUpto â‚¹8,750 Off on ExchangeAdd to Comparevivo T3x 5G (Celestial Green, 128 GB)4.411,072 RatingsÂ\\xa0&Â\\xa0534 Reviews8 GB RAM | 128 GB ROM | Expandable Upto 1 TB17.07 cm (6.72 inch) Full HD+ Display50MP + 2MP | 8MP Front Camera6000 mAh Battery6 Gen 1 Processor1 Year Manufacturer Warranty for Device and 6 Months Manufacturer Warranty for Inbox Accessoriesâ‚¹16,499â‚¹20,49919% offFree deliveryDaily SaverUpto â‚¹10,850 Off on ExchangeAdd to CompareMotorola Edge 50 Fusion (Marshmallow Blue, 128 GB)4.535,628 RatingsÂ\\xa0&Â\\xa02,316 Reviews8 GB RAM | 128 GB ROM17.02 cm (6.7 inch) Full HD+ Display50MP + 13MP | 32MP Front Camera5000 mAh Battery7s Gen 2 Processor1 Year on Handset and 6 Months on Accessoriesâ‚¹22,999â‚¹25,99911% offFree deliverySave extra with combo offersUpto â‚¹19,250 Off on ExchangeAdd to Comparevivo T3x 5G (Crimson Bliss, 128 GB)4.411,072 RatingsÂ\\xa0&Â\\xa0534 Reviews8 GB RAM | 128 GB ROM | Expandable Upto 1 TB17.07 cm (6.72 inch) Full HD+ Display50MP + 2MP | 8MP Front Camera6000 mAh Battery6 Gen 1 Processor1 Year Manufacturer Warranty for Device and 6 Months Manufacturer Warranty for Inbox Accessoriesâ‚¹16,499â‚¹20,49919% offFree deliveryDaily SaverUpto â‚¹10,850 Off on ExchangeAdd to CompareApple iPhone 15 (Green, 128 GB)4.648,096 RatingsÂ\\xa0&Â\\xa02,531 Reviews128 GB ROM15.49 cm (6.1 inch) Super Retina XDR Display48MP + 12MP | 12MP Front CameraA16 Bionic Chip, 6 Core Processor Processor1 Year Warranty for Phone and 6 Months Warranty for In-Box Accessoriesâ‚¹69,999â‚¹79,60012% offFree deliverySave extra with combo offersUpto â‚¹47,600 Off on ExchangeAdd to CompareApple iPhone 15 Plus (Green, 128 GB)4.68,491 RatingsÂ\\xa0&Â\\xa0676 Reviews128 GB ROM17.02 cm (6.7 inch) Super Retina XDR Display48MP + 12MP | 12MP Front CameraA16 Bionic Chip, 6 Core Processor Processor1 Year Warranty for Phone and 6 Months Warranty for In-Box Accessoriesâ‚¹79,999â‚¹89,60010% offFree deliverySave extra with combo offersUpto â‚¹47,600 Off on ExchangeAdd to CompareApple iPhone 15 (Pink, 128 GB)4.648,096 RatingsÂ\\xa0&Â\\xa02,531 Reviews128 GB ROM15.49 cm (6.1 inch) Super Retina XDR Display48MP + 12MP | 12MP Front CameraA16 Bionic Chip, 6 Core Processor Processor1 Year Warranty for Phone and 6 Months Warranty for In-Box Accessoriesâ‚¹69,999â‚¹79,60012% offFree deliverySave extra with combo offersUpto â‚¹47,600 Off on ExchangeAdd to CompareApple iPhone 15 Plus (Black, 128 GB)4.68,491 RatingsÂ\\xa0&Â\\xa0676 Reviews128 GB ROM17.02 cm (6.7 inch) Super Retina XDR Display48MP + 12MP | 12MP Front CameraA16 Bionic Chip, 6 Core Processor Processor1 Year Warranty for Phone and 6 Months Warranty for In-Box Accessoriesâ‚¹79,999â‚¹89,60010% offFree deliverySave extra with combo offersUpto â‚¹47,600 Off on ExchangeAdd to CompareMotorola Edge 50 Fusion (Marshmallow Blue, 256 GB)4.433,850 RatingsÂ\\xa0&Â\\xa02,344 Reviews12 GB RAM | 256 GB ROM17.02 cm (6.7 inch) Full HD+ Display50MP + 13MP | 32MP Front Camera5000 mAh Battery7s Gen 2 Processor1 Year on Handset and 6 Months on Accessoriesâ‚¹24,999â‚¹27,99910% offFree deliverySave extra with combo offersUpto â‚¹19,100 Off on ExchangeAdd to CompareMotorola Edge 50 Fusion (Forest Blue, 128 GB)4.535,628 RatingsÂ\\xa0&Â\\xa02,316 Reviews8 GB RAM | 128 GB ROM17.02 cm (6.7 inch) Full HD+ Display50MP + 13MP | 32MP Front Camera5000 mAh Battery7s Gen 2 Processor1 Year on Handset and 6 Months on Accessoriesâ‚¹22,999â‚¹25,99911% offFree deliverySave extra with combo offersUpto â‚¹19,250 Off on ExchangeAdd to CompareMotorola G34 5G (Ocean Green, 128 GB)4.21,19,980 RatingsÂ\\xa0&Â\\xa08,192 Reviews8 GB RAM | 128 GB ROM16.51 cm (6.5 inch) HD+ Display50MP + 2MP | 16MP Front Camera5000 mAh BatterySnapdragon 695 5G ProcessorVegan Leather Design1 Year on Handset and 6 Months on Accessoriesâ‚¹11,999â‚¹14,99920% offFree deliverySave extra with combo offersUpto â‚¹9,250 Off on ExchangeAdd to Comparerealme 12x 5G (Woodland Green, 128 GB)4.45,790 RatingsÂ\\xa0&Â\\xa0255 Reviews8 GB RAM | 128 GB ROM | Expandable Upto 2 TB17.07 cm (6.72 inch) Full HD+ Display50MP + 2MP | 8MP Front Camera5000 mAh BatteryDimensity 6100+ Processor1 Year Manufacturer Warranty for Device and 6 Months Manufacturer Warranty for Inbox Accessoriesâ‚¹14,999â‚¹18,99921% offFree deliverySave extra with combo offersUpto â‚¹12,950 Off on ExchangeAdd to Comparerealme 12x 5G (Twilight Purple, 128 GB)4.45,790 RatingsÂ\\xa0&Â\\xa0255 Reviews8 GB RAM | 128 GB ROM | Expandable Upto 2 TB17.07 cm (6.72 inch) Full HD+ Display50MP + 2MP | 8MP Front Camera5000 mAh BatteryDimensity 6100+ Processor1 Year Manufacturer Warranty for Device and 6 Months Manufacturer Warranty for Inbox Accessoriesâ‚¹14,999â‚¹18,99921% offFree deliverySave extra with combo offersUpto â‚¹12,950 Off on ExchangeAdd to CompareMOTOROLA Edge 50 (Jungle Green, 256 GB)4.32,423 RatingsÂ\\xa0&Â\\xa0151 Reviews8 GB RAM | 256 GB ROM16.94 cm (6.67 inch) Display50MP + 13MP + 10MP | 32MP Front Camera5000 mAh BatterySnapdragon 7 Gen 1 Accelerated Edition Processor1 Year Warranty on Handset and 6 Months Warranty on Accessoriesâ‚¹27,999â‚¹32,99915% offFree deliverySave extra with combo offersUpto â‚¹19,700 Off on ExchangePage 1 of 42012345678910NextDid you find what you were looking for?YesNo')]"
      ]
     },
     "execution_count": 14,
     "metadata": {},
     "output_type": "execute_result"
    }
   ],
   "source": [
    "# 1. Load, chunk and index the contents of the blog to create a retriever.\n",
    "import bs4\n",
    "loader = WebBaseLoader(\n",
    "    web_paths=(\"https://www.flipkart.com/search?q=mobiles&sid=tyy%2C4io&as=on&as-show=on&otracker=AS_QueryStore_OrganicAutoSuggest_2_7_na_na_na&otracker1=AS_QueryStore_OrganicAutoSuggest_2_7_na_na_na&as-pos=2&as-type=RECENT&suggestionId=mobiles%7CMobiles&requestId=6b019d01-4d80-43a5-ba42-9f39c182b117&as-searchtext=mobiles\",),\n",
    "    bs_kwargs=dict(\n",
    "        parse_only=bs4.SoupStrainer(\n",
    "            class_=(\"DOjaWF gdgoEp\",\"DOjaWF gdgoEp\",\"DOjaWF gdgoEp\")\n",
    "        )\n",
    "    ),\n",
    ")\n",
    "\n",
    "docs=loader.load()\n",
    "docs"
   ]
  },
  {
   "cell_type": "code",
   "execution_count": 52,
   "id": "489b477f-eb23-46e5-9dd0-846a9c975555",
   "metadata": {},
   "outputs": [
    {
     "data": {
      "text/plain": [
       "VectorStoreRetriever(tags=['FAISS', 'HuggingFaceEmbeddings'], vectorstore=<langchain_community.vectorstores.faiss.FAISS object at 0x000002798B936360>)"
      ]
     },
     "execution_count": 52,
     "metadata": {},
     "output_type": "execute_result"
    }
   ],
   "source": [
    "text_splitter=RecursiveCharacterTextSplitter(chunk_size=1000,chunk_overlap=200)\n",
    "splits=text_splitter.split_documents(docs)\n",
    "vectorstore=FAISS.from_documents(documents=splits,embedding=embeddings)\n",
    "retriever=vectorstore.as_retriever() #Interface for vectordb\n",
    "retriever"
   ]
  },
  {
   "cell_type": "code",
   "execution_count": 18,
   "id": "7d9b88e4-ded3-4fa0-8277-e69ca2b5be24",
   "metadata": {},
   "outputs": [
    {
     "data": {
      "text/plain": [
       "VectorStoreRetriever(tags=['FAISS', 'HuggingFaceEmbeddings'], vectorstore=<langchain_community.vectorstores.faiss.FAISS object at 0x000002798B827950>)"
      ]
     },
     "execution_count": 18,
     "metadata": {},
     "output_type": "execute_result"
    }
   ],
   "source": [
    "retriever"
   ]
  },
  {
   "cell_type": "code",
   "execution_count": 20,
   "id": "7d47454d-1ccd-4e8d-bbdb-a250d26b128c",
   "metadata": {},
   "outputs": [],
   "source": [
    "# formatted_docs = [{\"page_content\": doc.page_content, \"metadata\": doc.metadata} for doc in docs]"
   ]
  },
  {
   "cell_type": "code",
   "execution_count": 54,
   "id": "aa383647-5d63-4552-9d92-ca2b1f0486b3",
   "metadata": {},
   "outputs": [],
   "source": [
    "# formatted_docs "
   ]
  },
  {
   "cell_type": "code",
   "execution_count": 36,
   "id": "2898d736-da67-4ad0-ac52-b6fe57a106cf",
   "metadata": {},
   "outputs": [
    {
     "data": {
      "text/plain": [
       "list"
      ]
     },
     "execution_count": 36,
     "metadata": {},
     "output_type": "execute_result"
    }
   ],
   "source": [
    "# type(formatted_docs)"
   ]
  },
  {
   "cell_type": "code",
   "execution_count": 56,
   "id": "f506fec9-a3b5-4a1e-b30f-5b6b6d79a629",
   "metadata": {},
   "outputs": [],
   "source": [
    "# type(formatted_docs[0])"
   ]
  },
  {
   "cell_type": "code",
   "execution_count": 58,
   "id": "664a52c3-cfad-4faa-8597-3b93e8d5ab18",
   "metadata": {},
   "outputs": [],
   "source": [
    "# formatted_docs[0]['page_content']"
   ]
  },
  {
   "cell_type": "code",
   "execution_count": 60,
   "id": "d76bc92e-b6fe-4c1a-ad1e-a28e69b66bf4",
   "metadata": {},
   "outputs": [],
   "source": [
    "# for i in formatted_docs:\n",
    "#     print(i['page_content'])"
   ]
  },
  {
   "cell_type": "code",
   "execution_count": 62,
   "id": "d4cec819-aea6-4536-af56-6935703e1e6d",
   "metadata": {},
   "outputs": [],
   "source": [
    "# text_splitter=RecursiveCharacterTextSplitter(chunk_size=1000,chunk_overlap=200)\n",
    "# splits=text_splitter.split_documents(formatted_docs[0]['page_content'])\n",
    "# vectorstore=FAISS.from_documents(documents=splits,embedding=embeddings)\n",
    "# retriever=vectorstore.as_retriever() #Interface for vectordb\n",
    "# retriever"
   ]
  },
  {
   "cell_type": "code",
   "execution_count": 68,
   "id": "10c544ae-acfb-482e-88f2-333c2ebaec48",
   "metadata": {},
   "outputs": [
    {
     "name": "stderr",
     "output_type": "stream",
     "text": [
      "C:\\ProgramData\\anaconda3\\Lib\\site-packages\\langchain_core\\_api\\deprecation.py:141: LangChainDeprecationWarning: The function `initialize_agent` was deprecated in LangChain 0.1.0 and will be removed in 1.0. Use Use new agent constructor methods like create_react_agent, create_json_agent, create_structured_chat_agent, etc. instead.\n",
      "  warn_deprecated(\n"
     ]
    }
   ],
   "source": [
    "from langchain.tools.retriever import create_retriever_tool\n",
    "from langchain.agents import initialize_agent,AgentType\n",
    "\n",
    "retriever_tool=create_retriever_tool(retriever,\"flipchat\",\"flipkart mobile search\")\n",
    "\n",
    "retriever_tool\n",
    "tools=[retriever_tool]\n",
    "search_agent=initialize_agent(tools,llm,agent=AgentType.ZERO_SHOT_REACT_DESCRIPTION,handling_parsing_errors=True)"
   ]
  },
  {
   "cell_type": "code",
   "execution_count": 76,
   "id": "f1234a45-dacb-425a-9794-df5332714562",
   "metadata": {},
   "outputs": [
    {
     "name": "stderr",
     "output_type": "stream",
     "text": [
      "C:\\ProgramData\\anaconda3\\Lib\\site-packages\\langchain_core\\_api\\beta_decorator.py:87: LangChainBetaWarning: The function `loads` is in beta. It is actively being worked on, so the API may change.\n",
      "  warn_beta(\n"
     ]
    },
    {
     "data": {
      "text/plain": [
       "[SystemMessagePromptTemplate(prompt=PromptTemplate(input_variables=[], template='You are a helpful assistant')),\n",
       " MessagesPlaceholder(variable_name='chat_history', optional=True),\n",
       " HumanMessagePromptTemplate(prompt=PromptTemplate(input_variables=['input'], template='{input}')),\n",
       " MessagesPlaceholder(variable_name='agent_scratchpad')]"
      ]
     },
     "execution_count": 76,
     "metadata": {},
     "output_type": "execute_result"
    }
   ],
   "source": [
    "from langchain import hub\n",
    "prompt=hub.pull(\"hwchase17/openai-functions-agent\")\n",
    "prompt.messages"
   ]
  },
  {
   "cell_type": "code",
   "execution_count": null,
   "id": "2b42a9e5-7436-4cfb-80f3-aa85ecf115f5",
   "metadata": {},
   "outputs": [],
   "source": [
    "\n"
   ]
  },
  {
   "cell_type": "code",
   "execution_count": 89,
   "id": "105ca841-d8a5-4ee0-9ca0-86201d8d30d6",
   "metadata": {},
   "outputs": [],
   "source": [
    "from langchain.agents import AgentExecutor, create_structured_chat_agent\n",
    "\n",
    "\n",
    "\n",
    "\n"
   ]
  },
  {
   "cell_type": "code",
   "execution_count": null,
   "id": "f524448e-da3d-49d5-9099-79b9d704ad12",
   "metadata": {},
   "outputs": [],
   "source": []
  },
  {
   "cell_type": "code",
   "execution_count": null,
   "id": "5790b546-5bd7-457e-85ee-09a60907b62b",
   "metadata": {},
   "outputs": [],
   "source": []
  },
  {
   "cell_type": "code",
   "execution_count": null,
   "id": "75efe8fe-1355-451c-bcd9-d9dbb4541359",
   "metadata": {},
   "outputs": [],
   "source": []
  },
  {
   "cell_type": "code",
   "execution_count": null,
   "id": "9fe930d7-9ffb-4cb6-bf4b-8c5e6a6e43f8",
   "metadata": {},
   "outputs": [],
   "source": []
  },
  {
   "cell_type": "code",
   "execution_count": null,
   "id": "ae8e7924-6850-48c4-a9a0-6d8ae7699b72",
   "metadata": {},
   "outputs": [],
   "source": []
  },
  {
   "cell_type": "code",
   "execution_count": null,
   "id": "2ac498b6-76a3-4467-8d93-060d75e96ce9",
   "metadata": {},
   "outputs": [],
   "source": []
  },
  {
   "cell_type": "code",
   "execution_count": null,
   "id": "b17c5a51-a8a3-4cb3-a5b1-16c6881cf63e",
   "metadata": {},
   "outputs": [],
   "source": []
  }
 ],
 "metadata": {
  "kernelspec": {
   "display_name": "Python 3 (ipykernel)",
   "language": "python",
   "name": "python3"
  },
  "language_info": {
   "codemirror_mode": {
    "name": "ipython",
    "version": 3
   },
   "file_extension": ".py",
   "mimetype": "text/x-python",
   "name": "python",
   "nbconvert_exporter": "python",
   "pygments_lexer": "ipython3",
   "version": "3.12.4"
  }
 },
 "nbformat": 4,
 "nbformat_minor": 5
}
